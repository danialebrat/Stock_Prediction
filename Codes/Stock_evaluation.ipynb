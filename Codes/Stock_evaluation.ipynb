{
  "nbformat": 4,
  "nbformat_minor": 0,
  "metadata": {
    "colab": {
      "name": "Stock_evaluation.ipynb",
      "provenance": [],
      "collapsed_sections": [],
      "mount_file_id": "1Ziuz2DQuUIXS1zU5JnQicOA0UBlwgFMz",
      "authorship_tag": "ABX9TyMs5YjSTbRy38AUOldq9NKc",
      "include_colab_link": true
    },
    "kernelspec": {
      "name": "python3",
      "display_name": "Python 3"
    },
    "language_info": {
      "name": "python"
    }
  },
  "cells": [
    {
      "cell_type": "markdown",
      "metadata": {
        "id": "view-in-github",
        "colab_type": "text"
      },
      "source": [
        "<a href=\"https://colab.research.google.com/github/danialebrat/Stock_Prediction/blob/main/Codes/Stock_evaluation.ipynb\" target=\"_parent\"><img src=\"https://colab.research.google.com/assets/colab-badge.svg\" alt=\"Open In Colab\"/></a>"
      ]
    },
    {
      "cell_type": "code",
      "execution_count": null,
      "metadata": {
        "id": "lxZhK5YOohot"
      },
      "outputs": [],
      "source": [
        "import numpy as np\n",
        "import pandas as pd\n",
        "import matplotlib.pyplot as plt\n",
        "from tensorflow.keras.models import load_model\n",
        "from tensorflow.keras.metrics import mean_squared_error\n",
        "import gc"
      ]
    },
    {
      "cell_type": "code",
      "source": [
        "# loading the model\n",
        "model = load_model(\"/content/drive/MyDrive/Stock Prediction/Stock_model.h5\")"
      ],
      "metadata": {
        "id": "cNB-8E8ko0gX"
      },
      "execution_count": null,
      "outputs": []
    },
    {
      "cell_type": "code",
      "source": [
        "# plot Path: where to store the results\n",
        "PLOT_PATH = \"/content/drive/MyDrive/Stock Prediction/Pics/Evaluating_model/\"\n",
        "\n",
        "\n",
        "plot_size = 8"
      ],
      "metadata": {
        "id": "HDgu3wbwpg8X"
      },
      "execution_count": null,
      "outputs": []
    },
    {
      "cell_type": "code",
      "source": [
        "def Plotting(past, future, predicted, file_name, main_path):\n",
        "     \n",
        "    \"\"\"\n",
        "    plotting previous records (5 records), real future, and the predicted point\n",
        "    in one plot\n",
        "\n",
        "    x_ axis: number of days\n",
        "    y_axis: stock prices\n",
        "    \"\"\"    \n",
        "        \n",
        "    x_past = range(len(past))\n",
        "    y_past = past\n",
        "    \n",
        "    x_future = range(len(past), len(past)+len(future))\n",
        "    y_future = future\n",
        "    \n",
        "    x_predicted = range(len(past), len(past)+len(predicted))\n",
        "    y_predicted = predicted\n",
        " \n",
        "       \n",
        "    # Plotting Trajectory path with stop points   \n",
        "    plt.title(file_name, fontsize=plot_size*2)\n",
        "    \n",
        "    plt.plot(x_past, y_past, color=\"darkorange\", marker=\"o\")\n",
        "    plt.plot(x_future, y_future, color=\"green\", marker=\"o\")\n",
        "    plt.plot(x_predicted, y_predicted, color=\"red\", marker=\"s\")\n",
        "    \n",
        "    \n",
        "    plt.xlabel(\"Day\", fontsize=20)\n",
        "    plt.ylabel(\"Price\", fontsize=20)  \n",
        "       \n",
        "    fname = main_path + str(file_name) + \".png\"\n",
        "       \n",
        "    plt.savefig(fname, dpi=100)  \n",
        "    plt.close('all')\n",
        "    \n",
        "    del x_past, y_past, x_future, y_future, x_predicted, y_predicted\n",
        "    gc.collect()\n",
        "    "
      ],
      "metadata": {
        "id": "g4CZR-08pjB1"
      },
      "execution_count": null,
      "outputs": []
    },
    {
      "cell_type": "code",
      "source": [
        "if __name__ == \"__main__\":\n",
        "    \n",
        "    # loading X_test and Y_test\n",
        "    X = np.load(\"/content/drive/MyDrive/Stock Prediction/x_test_stock.npy\")\n",
        "    Y = np.load(\"/content/drive/MyDrive/Stock Prediction/y_test_stock.npy\")\n",
        "    \n",
        "    predict = model.predict(X)\n",
        "    index = 0\n",
        "    \n",
        "    for i in range(len(X)):\n",
        "        \n",
        "        x = X[i]\n",
        "        y = Y[i]      \n",
        "        predicted = predict[i]\n",
        "        \n",
        "        Plotting(x, y, predicted, index, main_path = PLOT_PATH)\n",
        "        index += 1\n",
        "        \n",
        "    \n",
        "    \n",
        "    \n",
        "\n",
        "    \n",
        "    \n",
        "    "
      ],
      "metadata": {
        "id": "EGQtWcIfpljN"
      },
      "execution_count": null,
      "outputs": []
    },
    {
      "cell_type": "code",
      "source": [
        ""
      ],
      "metadata": {
        "id": "zyQ7JtNLp4RV"
      },
      "execution_count": null,
      "outputs": []
    }
  ]
}