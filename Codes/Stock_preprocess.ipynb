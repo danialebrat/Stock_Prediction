{
  "nbformat": 4,
  "nbformat_minor": 0,
  "metadata": {
    "colab": {
      "name": "Stock_preprocess.ipynb",
      "provenance": [],
      "mount_file_id": "1fSUZiD3t6Wdg5ioGCe5owvIgDibtqSJ8",
      "authorship_tag": "ABX9TyNjAlD0evgb/XUKLtCJs27y",
      "include_colab_link": true
    },
    "kernelspec": {
      "name": "python3",
      "display_name": "Python 3"
    },
    "language_info": {
      "name": "python"
    },
    "widgets": {
      "application/vnd.jupyter.widget-state+json": {
        "660688621e2d4d9e871259fcdd076d4a": {
          "model_module": "@jupyter-widgets/controls",
          "model_name": "HBoxModel",
          "model_module_version": "1.5.0",
          "state": {
            "_dom_classes": [],
            "_model_module": "@jupyter-widgets/controls",
            "_model_module_version": "1.5.0",
            "_model_name": "HBoxModel",
            "_view_count": null,
            "_view_module": "@jupyter-widgets/controls",
            "_view_module_version": "1.5.0",
            "_view_name": "HBoxView",
            "box_style": "",
            "children": [
              "IPY_MODEL_46ccb9b97eb94ebbbb52cf8a7e2bf1b2",
              "IPY_MODEL_5d3d8565fcb34c9da951267ca4ef0d73",
              "IPY_MODEL_413c80a8475949339c5d86298f512800"
            ],
            "layout": "IPY_MODEL_93d3f64e124d472fb9a8b4597b5f9700"
          }
        },
        "46ccb9b97eb94ebbbb52cf8a7e2bf1b2": {
          "model_module": "@jupyter-widgets/controls",
          "model_name": "HTMLModel",
          "model_module_version": "1.5.0",
          "state": {
            "_dom_classes": [],
            "_model_module": "@jupyter-widgets/controls",
            "_model_module_version": "1.5.0",
            "_model_name": "HTMLModel",
            "_view_count": null,
            "_view_module": "@jupyter-widgets/controls",
            "_view_module_version": "1.5.0",
            "_view_name": "HTMLView",
            "description": "",
            "description_tooltip": null,
            "layout": "IPY_MODEL_19866102a6cb428cb3e1144a9f5c4525",
            "placeholder": "​",
            "style": "IPY_MODEL_db1607e7b687496a86ef0cacc61e3c70",
            "value": "Loading…: 100%"
          }
        },
        "5d3d8565fcb34c9da951267ca4ef0d73": {
          "model_module": "@jupyter-widgets/controls",
          "model_name": "FloatProgressModel",
          "model_module_version": "1.5.0",
          "state": {
            "_dom_classes": [],
            "_model_module": "@jupyter-widgets/controls",
            "_model_module_version": "1.5.0",
            "_model_name": "FloatProgressModel",
            "_view_count": null,
            "_view_module": "@jupyter-widgets/controls",
            "_view_module_version": "1.5.0",
            "_view_name": "ProgressView",
            "bar_style": "success",
            "description": "",
            "description_tooltip": null,
            "layout": "IPY_MODEL_77ed2b5167fa44d7962a77bfbb7d1c1a",
            "max": 10,
            "min": 0,
            "orientation": "horizontal",
            "style": "IPY_MODEL_6934bc1f5ff64fe7b3e72ab1b5ca37a1",
            "value": 10
          }
        },
        "413c80a8475949339c5d86298f512800": {
          "model_module": "@jupyter-widgets/controls",
          "model_name": "HTMLModel",
          "model_module_version": "1.5.0",
          "state": {
            "_dom_classes": [],
            "_model_module": "@jupyter-widgets/controls",
            "_model_module_version": "1.5.0",
            "_model_name": "HTMLModel",
            "_view_count": null,
            "_view_module": "@jupyter-widgets/controls",
            "_view_module_version": "1.5.0",
            "_view_name": "HTMLView",
            "description": "",
            "description_tooltip": null,
            "layout": "IPY_MODEL_745f4a1fe70046efb6ad45e000a87ae8",
            "placeholder": "​",
            "style": "IPY_MODEL_4f92bbcf809f4a778b97373c81a7e41c",
            "value": " 10/10 [00:00&lt;00:00, 12.22it/s]"
          }
        },
        "93d3f64e124d472fb9a8b4597b5f9700": {
          "model_module": "@jupyter-widgets/base",
          "model_name": "LayoutModel",
          "model_module_version": "1.2.0",
          "state": {
            "_model_module": "@jupyter-widgets/base",
            "_model_module_version": "1.2.0",
            "_model_name": "LayoutModel",
            "_view_count": null,
            "_view_module": "@jupyter-widgets/base",
            "_view_module_version": "1.2.0",
            "_view_name": "LayoutView",
            "align_content": null,
            "align_items": null,
            "align_self": null,
            "border": null,
            "bottom": null,
            "display": null,
            "flex": null,
            "flex_flow": null,
            "grid_area": null,
            "grid_auto_columns": null,
            "grid_auto_flow": null,
            "grid_auto_rows": null,
            "grid_column": null,
            "grid_gap": null,
            "grid_row": null,
            "grid_template_areas": null,
            "grid_template_columns": null,
            "grid_template_rows": null,
            "height": null,
            "justify_content": null,
            "justify_items": null,
            "left": null,
            "margin": null,
            "max_height": null,
            "max_width": null,
            "min_height": null,
            "min_width": null,
            "object_fit": null,
            "object_position": null,
            "order": null,
            "overflow": null,
            "overflow_x": null,
            "overflow_y": null,
            "padding": null,
            "right": null,
            "top": null,
            "visibility": null,
            "width": null
          }
        },
        "19866102a6cb428cb3e1144a9f5c4525": {
          "model_module": "@jupyter-widgets/base",
          "model_name": "LayoutModel",
          "model_module_version": "1.2.0",
          "state": {
            "_model_module": "@jupyter-widgets/base",
            "_model_module_version": "1.2.0",
            "_model_name": "LayoutModel",
            "_view_count": null,
            "_view_module": "@jupyter-widgets/base",
            "_view_module_version": "1.2.0",
            "_view_name": "LayoutView",
            "align_content": null,
            "align_items": null,
            "align_self": null,
            "border": null,
            "bottom": null,
            "display": null,
            "flex": null,
            "flex_flow": null,
            "grid_area": null,
            "grid_auto_columns": null,
            "grid_auto_flow": null,
            "grid_auto_rows": null,
            "grid_column": null,
            "grid_gap": null,
            "grid_row": null,
            "grid_template_areas": null,
            "grid_template_columns": null,
            "grid_template_rows": null,
            "height": null,
            "justify_content": null,
            "justify_items": null,
            "left": null,
            "margin": null,
            "max_height": null,
            "max_width": null,
            "min_height": null,
            "min_width": null,
            "object_fit": null,
            "object_position": null,
            "order": null,
            "overflow": null,
            "overflow_x": null,
            "overflow_y": null,
            "padding": null,
            "right": null,
            "top": null,
            "visibility": null,
            "width": null
          }
        },
        "db1607e7b687496a86ef0cacc61e3c70": {
          "model_module": "@jupyter-widgets/controls",
          "model_name": "DescriptionStyleModel",
          "model_module_version": "1.5.0",
          "state": {
            "_model_module": "@jupyter-widgets/controls",
            "_model_module_version": "1.5.0",
            "_model_name": "DescriptionStyleModel",
            "_view_count": null,
            "_view_module": "@jupyter-widgets/base",
            "_view_module_version": "1.2.0",
            "_view_name": "StyleView",
            "description_width": ""
          }
        },
        "77ed2b5167fa44d7962a77bfbb7d1c1a": {
          "model_module": "@jupyter-widgets/base",
          "model_name": "LayoutModel",
          "model_module_version": "1.2.0",
          "state": {
            "_model_module": "@jupyter-widgets/base",
            "_model_module_version": "1.2.0",
            "_model_name": "LayoutModel",
            "_view_count": null,
            "_view_module": "@jupyter-widgets/base",
            "_view_module_version": "1.2.0",
            "_view_name": "LayoutView",
            "align_content": null,
            "align_items": null,
            "align_self": null,
            "border": null,
            "bottom": null,
            "display": null,
            "flex": null,
            "flex_flow": null,
            "grid_area": null,
            "grid_auto_columns": null,
            "grid_auto_flow": null,
            "grid_auto_rows": null,
            "grid_column": null,
            "grid_gap": null,
            "grid_row": null,
            "grid_template_areas": null,
            "grid_template_columns": null,
            "grid_template_rows": null,
            "height": null,
            "justify_content": null,
            "justify_items": null,
            "left": null,
            "margin": null,
            "max_height": null,
            "max_width": null,
            "min_height": null,
            "min_width": null,
            "object_fit": null,
            "object_position": null,
            "order": null,
            "overflow": null,
            "overflow_x": null,
            "overflow_y": null,
            "padding": null,
            "right": null,
            "top": null,
            "visibility": null,
            "width": null
          }
        },
        "6934bc1f5ff64fe7b3e72ab1b5ca37a1": {
          "model_module": "@jupyter-widgets/controls",
          "model_name": "ProgressStyleModel",
          "model_module_version": "1.5.0",
          "state": {
            "_model_module": "@jupyter-widgets/controls",
            "_model_module_version": "1.5.0",
            "_model_name": "ProgressStyleModel",
            "_view_count": null,
            "_view_module": "@jupyter-widgets/base",
            "_view_module_version": "1.2.0",
            "_view_name": "StyleView",
            "bar_color": null,
            "description_width": ""
          }
        },
        "745f4a1fe70046efb6ad45e000a87ae8": {
          "model_module": "@jupyter-widgets/base",
          "model_name": "LayoutModel",
          "model_module_version": "1.2.0",
          "state": {
            "_model_module": "@jupyter-widgets/base",
            "_model_module_version": "1.2.0",
            "_model_name": "LayoutModel",
            "_view_count": null,
            "_view_module": "@jupyter-widgets/base",
            "_view_module_version": "1.2.0",
            "_view_name": "LayoutView",
            "align_content": null,
            "align_items": null,
            "align_self": null,
            "border": null,
            "bottom": null,
            "display": null,
            "flex": null,
            "flex_flow": null,
            "grid_area": null,
            "grid_auto_columns": null,
            "grid_auto_flow": null,
            "grid_auto_rows": null,
            "grid_column": null,
            "grid_gap": null,
            "grid_row": null,
            "grid_template_areas": null,
            "grid_template_columns": null,
            "grid_template_rows": null,
            "height": null,
            "justify_content": null,
            "justify_items": null,
            "left": null,
            "margin": null,
            "max_height": null,
            "max_width": null,
            "min_height": null,
            "min_width": null,
            "object_fit": null,
            "object_position": null,
            "order": null,
            "overflow": null,
            "overflow_x": null,
            "overflow_y": null,
            "padding": null,
            "right": null,
            "top": null,
            "visibility": null,
            "width": null
          }
        },
        "4f92bbcf809f4a778b97373c81a7e41c": {
          "model_module": "@jupyter-widgets/controls",
          "model_name": "DescriptionStyleModel",
          "model_module_version": "1.5.0",
          "state": {
            "_model_module": "@jupyter-widgets/controls",
            "_model_module_version": "1.5.0",
            "_model_name": "DescriptionStyleModel",
            "_view_count": null,
            "_view_module": "@jupyter-widgets/base",
            "_view_module_version": "1.2.0",
            "_view_name": "StyleView",
            "description_width": ""
          }
        }
      }
    }
  },
  "cells": [
    {
      "cell_type": "markdown",
      "metadata": {
        "id": "view-in-github",
        "colab_type": "text"
      },
      "source": [
        "<a href=\"https://colab.research.google.com/github/danialebrat/Stock_Prediction/blob/main/Codes/Stock_preprocess.ipynb\" target=\"_parent\"><img src=\"https://colab.research.google.com/assets/colab-badge.svg\" alt=\"Open In Colab\"/></a>"
      ]
    },
    {
      "cell_type": "code",
      "execution_count": 1,
      "metadata": {
        "id": "DrZ_vXlX4R5c"
      },
      "outputs": [],
      "source": [
        "import numpy as np\n",
        "import pandas as pd\n",
        "import matplotlib.pyplot as plt\n",
        "from sklearn.preprocessing import MinMaxScaler, minmax_scale\n",
        "from tqdm.notebook import tqdm\n",
        "import os"
      ]
    },
    {
      "cell_type": "code",
      "source": [
        "file = \"/content/drive/MyDrive/Stock Prediction/data.xlsx\""
      ],
      "metadata": {
        "id": "npTSaiRx4tFR"
      },
      "execution_count": 2,
      "outputs": []
    },
    {
      "cell_type": "code",
      "source": [
        "storing_path = \"\"\n",
        "\n",
        "stock_list = []\n",
        "\n",
        "SEG_LEN = 6 #day\n",
        "HOP_LENGTH = 1 #day\n",
        "\n",
        "\n",
        "plot_size = 8"
      ],
      "metadata": {
        "id": "RTNBRVXd7AWL"
      },
      "execution_count": 3,
      "outputs": []
    },
    {
      "cell_type": "code",
      "source": [
        "def read_data(file):\n",
        "    \n",
        "    stock_list = []\n",
        "    \n",
        "    df = pd.read_excel(file, header=None)\n",
        "    for index, row in df.iterrows():\n",
        "        stock_list.append(np.array(row[:]).tolist())\n",
        "    \n",
        "    return stock_list\n"
      ],
      "metadata": {
        "id": "d9N12fQEmx_p"
      },
      "execution_count": 4,
      "outputs": []
    },
    {
      "cell_type": "code",
      "source": [
        "def number_of_segments(stock):  \n",
        "    \n",
        "    number_of_records = len(stock[1:])\n",
        "    \n",
        "    # Number of SEG_LEN size segments\n",
        "    num_segments = int((number_of_records - SEG_LEN)/HOP_LENGTH) + 1   \n",
        "\n",
        "    return num_segments"
      ],
      "metadata": {
        "id": "6bgZsPmIm0Ta"
      },
      "execution_count": 5,
      "outputs": []
    },
    {
      "cell_type": "code",
      "source": [
        "def segmentize(stock, seg):\n",
        "    \n",
        "    # Locating each segment\n",
        "    \n",
        "    start = HOP_LENGTH * seg\n",
        "    end = start + SEG_LEN\n",
        "    \n",
        "    segment = np.array(stock[start:end])   \n",
        "    segment = segment.reshape((-1, 1)) \n",
        "    \n",
        "    scaler = MinMaxScaler()\n",
        "    arr = scaler.fit_transform(segment) \n",
        "\n",
        "    return arr"
      ],
      "metadata": {
        "id": "mnzWTTL-m2OI"
      },
      "execution_count": 6,
      "outputs": []
    },
    {
      "cell_type": "code",
      "source": [
        "def store_seg(DATA, name):\n",
        "    \n",
        "    path = storing_path + name\n",
        "    \n",
        "    if os.path.exists(path):\n",
        "        new = path + \"_1\"\n",
        "        np.save(new, np.array(DATA))\n",
        "        \n",
        "    else:\n",
        "        np.save(path, np.array(DATA))"
      ],
      "metadata": {
        "id": "GeUMPQxPm4Iw"
      },
      "execution_count": 7,
      "outputs": []
    },
    {
      "cell_type": "code",
      "source": [
        "def preprocess():\n",
        "    \n",
        "    stock_list = read_data(file)\n",
        "    DATA = []\n",
        "    \n",
        "    for stock in tqdm(stock_list, desc=\"Loading…\"):\n",
        "        \n",
        "        name = stock[0] \n",
        "        data = stock[1:]\n",
        "        \n",
        "        print(\"Stock_name: {}\".format(name))\n",
        "        \n",
        "        num_segments = number_of_segments(data)\n",
        "        \n",
        "        for seg in range(0, num_segments):\n",
        "            \n",
        "            # Segmentizing\n",
        "            array_seg = segmentize(data, seg)\n",
        "            DATA.append(array_seg.tolist())\n",
        "            \n",
        "    store_seg(DATA, \"Data\")\n",
        "        \n",
        "        \n",
        "\n",
        "        \n",
        "        "
      ],
      "metadata": {
        "id": "5jak4y3tm9xI"
      },
      "execution_count": 8,
      "outputs": []
    },
    {
      "cell_type": "code",
      "source": [
        "if __name__ == \"__main__\":\n",
        "    \n",
        "    preprocess()"
      ],
      "metadata": {
        "colab": {
          "base_uri": "https://localhost:8080/",
          "height": 223,
          "referenced_widgets": [
            "660688621e2d4d9e871259fcdd076d4a",
            "46ccb9b97eb94ebbbb52cf8a7e2bf1b2",
            "5d3d8565fcb34c9da951267ca4ef0d73",
            "413c80a8475949339c5d86298f512800",
            "93d3f64e124d472fb9a8b4597b5f9700",
            "19866102a6cb428cb3e1144a9f5c4525",
            "db1607e7b687496a86ef0cacc61e3c70",
            "77ed2b5167fa44d7962a77bfbb7d1c1a",
            "6934bc1f5ff64fe7b3e72ab1b5ca37a1",
            "745f4a1fe70046efb6ad45e000a87ae8",
            "4f92bbcf809f4a778b97373c81a7e41c"
          ]
        },
        "id": "r3WA1BoFm_eI",
        "outputId": "ab74e4dd-3994-4eb2-f667-08c6a152e4da"
      },
      "execution_count": 9,
      "outputs": [
        {
          "output_type": "display_data",
          "data": {
            "text/plain": [
              "Loading…:   0%|          | 0/10 [00:00<?, ?it/s]"
            ],
            "application/vnd.jupyter.widget-view+json": {
              "version_major": 2,
              "version_minor": 0,
              "model_id": "660688621e2d4d9e871259fcdd076d4a"
            }
          },
          "metadata": {}
        },
        {
          "output_type": "stream",
          "name": "stdout",
          "text": [
            "Stock_name: CAL\n",
            "Stock_name: UCB\n",
            "Stock_name: RIT\n",
            "Stock_name: UCLA\n",
            "Stock_name: UCSC\n",
            "Stock_name: UFL\n",
            "Stock_name: UMAD\n",
            "Stock_name: RICE\n",
            "Stock_name: UMD\n",
            "Stock_name: UCSC\n"
          ]
        }
      ]
    },
    {
      "cell_type": "code",
      "source": [
        ""
      ],
      "metadata": {
        "id": "4PP5tlpdnERA"
      },
      "execution_count": null,
      "outputs": []
    }
  ]
}