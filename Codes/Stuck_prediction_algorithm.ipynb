{
  "nbformat": 4,
  "nbformat_minor": 0,
  "metadata": {
    "colab": {
      "name": "Stuck_prediction_algorithm.ipynb",
      "provenance": [],
      "collapsed_sections": [],
      "mount_file_id": "1cSoOU912SvewzQ8rvNhuHc8h34zi5lwt",
      "authorship_tag": "ABX9TyN6MwLZZs2v0PmqdJ4DkWxw",
      "include_colab_link": true
    },
    "kernelspec": {
      "name": "python3",
      "display_name": "Python 3"
    },
    "language_info": {
      "name": "python"
    }
  },
  "cells": [
    {
      "cell_type": "markdown",
      "metadata": {
        "id": "view-in-github",
        "colab_type": "text"
      },
      "source": [
        "<a href=\"https://colab.research.google.com/github/danialebrat/Stock_Prediction/blob/main/Codes/Stuck_prediction_algorithm.ipynb\" target=\"_parent\"><img src=\"https://colab.research.google.com/assets/colab-badge.svg\" alt=\"Open In Colab\"/></a>"
      ]
    },
    {
      "cell_type": "code",
      "source": [
        "import numpy as np\n",
        "import pandas as pd\n",
        "import matplotlib.pyplot as plt\n",
        "from tensorflow.keras.models import load_model\n",
        "from sklearn.preprocessing import MinMaxScaler, minmax_scale"
      ],
      "metadata": {
        "id": "S5uVuSQ46aU-"
      },
      "execution_count": 1,
      "outputs": []
    },
    {
      "cell_type": "code",
      "source": [
        "model = load_model(\"/content/drive/MyDrive/Stock Prediction/Stock_model.h5\")"
      ],
      "metadata": {
        "id": "II_E8Zo-6tIl"
      },
      "execution_count": null,
      "outputs": []
    },
    {
      "cell_type": "code",
      "source": [
        "import numpy as np\n",
        " \n",
        "alpha = 2 / 6\n",
        "exp = np.array([alpha * (1 - alpha) ** (5 - i) for i in range(1, 6)]) + (1 - alpha) ** 5 / 5\n",
        " \n",
        "def printTransactions(m, k, d, name, owned, prices):\n",
        "    max_f = None\n",
        "    min_f = None\n",
        " \n",
        "    for i in range(k):\n",
        "        f = getCEMA(prices[i]) - np.mean(prices[i])\n",
        "        if owned[i] > 0 and f > 0 and (max_f is None or f > max_f[0]):\n",
        "            max_f = (f, '{0} SELL {1}'.format(name[i], owned[i]))\n",
        "        elif m > prices[i][-1] and d > 0 and f > 0 and (min_f is None or f < min_f[0]):\n",
        "            min_f = (f, '{0} BUY {1}'.format(name[i], int(m / prices[i][-1])))\n",
        " \n",
        "    if max_f is not None and min_f is not None:\n",
        "        print(2)\n",
        "    elif max_f is not None or min_f is not None:\n",
        "        print(1)\n",
        "    else:\n",
        "        print(0)\n",
        " \n",
        "    if max_f is not None:\n",
        "        print(max_f[1])\n",
        "    if min_f is not None:\n",
        "        print(min_f[1])\n",
        " \n",
        "def getCEMA(a):\n",
        "    return np.dot(exp, a)\n",
        " \n",
        "def readInputAndRun():\n",
        "    line = input().split()\n",
        "    m, k, d = float(line[0]), int(line[1]), int(line[2])\n",
        "    name = []\n",
        "    owned = []\n",
        "    prices = []\n",
        "    for i in range(k):\n",
        "        line = input().split()\n",
        "        name.append(line[0])\n",
        "        owned.append(int(line[1]))\n",
        "        prices.append(list(map(float, line[2:])))\n",
        "    printTransactions(m, k, d, name, owned, prices)\n",
        " \n",
        "readInputAndRun()"
      ],
      "metadata": {
        "id": "NOlaagUy2Tmw"
      },
      "execution_count": null,
      "outputs": []
    },
    {
      "cell_type": "code",
      "source": [
        "def readInputAndRun():\n",
        "    line = input().split()\n",
        "    m, k, d = float(line[0]), int(line[1]), int(line[2])\n",
        "    name = []\n",
        "    owned = []\n",
        "    prices = []\n",
        "    for i in range(k):\n",
        "        line = input().split()\n",
        "        name.append(line[0])\n",
        "        owned.append(int(line[1]))\n",
        "        prices.append(list(map(float, line[2:])))\n",
        "    printTransactions(m, k, d, name, owned, prices)"
      ],
      "metadata": {
        "id": "E2Scs-Ze97HH"
      },
      "execution_count": null,
      "outputs": []
    },
    {
      "cell_type": "code",
      "source": [
        "def printTransactions(m, k, d, name, owned, prices):\n",
        "    \n",
        "    \"\"\"\n",
        "\n",
        "    INPUT: \n",
        "\n",
        "    m - the amount of money you could spend that day.\n",
        "    k - the number of different stocks available for buying or selling.\n",
        "    d - the number of remaining days for trading stocks.\n",
        "\n",
        "    k lines follow, each in the following format: name owned prices\n",
        "    name - the name of the stock (a string).\n",
        "    owned - the number of shares you own of that stock.\n",
        "    prices - 5 space separated numbers representing the stock's price for the last 5 days. last number is the current stock price.\n",
        "\n",
        "    OUTPUT:\n",
        "    Output N - number of transactions, 0 if not any\n",
        "    output N lines containing the name of the stock, BUY or SELL, and the number of shares to buy or sell.\n",
        "    \"\"\"\n",
        "    current_transaction = []\n",
        "    potential_sale = []\n",
        "    potential_buy = []\n",
        "\n",
        "    # Knapstack\n",
        "    capacity = m\n",
        "    weights = []\n",
        "    profits = []\n",
        "    stocks = []\n",
        "\n",
        "    \n",
        "\n",
        "    for i in range(k):\n",
        "\n",
        "        future_price = predict_future(prices[i])\n",
        "        ballance = future_price - prices[i][-1]\n",
        "\n",
        "        if ballance < 0:\n",
        "          if owned[i] > 0:\n",
        "            sale = ('{} SELL {}'.format(name[i], owned[i]))\n",
        "            potential_sale.append(sale)\n",
        "\n",
        "            \n",
        "        else:\n",
        "          weights.append(prices[i][-1])\n",
        "          profits.append(ballance)\n",
        "          stocks.append(name)\n",
        "          \n",
        "    \n",
        "\n",
        "    items, values = unbounded_knapsack(weights, profits, capacity)\n",
        "\n",
        "    for w,s in zip(weights, stocks):\n",
        "      count = 0\n",
        "      for item in items: \n",
        "        if item == w:\n",
        "          count += 1\n",
        "      buy = ('{} BUY {}'.format(s, count))\n",
        "      potential_buy.append(buy)\n",
        "\n",
        "    print_output(potential_buy, potential_sale)\n",
        "\n",
        "\n",
        "    \n",
        "\n",
        "\n",
        "\n",
        "    "
      ],
      "metadata": {
        "id": "Z9KjDzHf3DeW"
      },
      "execution_count": null,
      "outputs": []
    },
    {
      "cell_type": "code",
      "source": [
        "def predict_future(prices):\n",
        "     \n",
        "    price_list = []\n",
        "\n",
        "    segment = prices.reshape((-1, 1)) \n",
        "    \n",
        "    scaler = MinMaxScaler()\n",
        "    arr = scaler.fit_transform(segment)\n",
        "\n",
        "    price_list.append(arr)\n",
        "\n",
        "    future_price = model.predict(price_list)\n",
        "\n",
        "    future_price = scaler.inverse_transform(future_price)\n",
        "    future_price = future_price.reshape(prices.shape)\n",
        "\n",
        "    return arr"
      ],
      "metadata": {
        "id": "aOyEM2Eg5jHM"
      },
      "execution_count": 2,
      "outputs": []
    },
    {
      "cell_type": "code",
      "source": [
        "def print_output(potential_buy, potential_sale):\n",
        "\n",
        "  if len(potential_buy)+len(potential_sale) == 0:\n",
        "    print(0)\n",
        "\n",
        "  else:\n",
        "    number_of_transaction = len(potential_buy)+len(potential_sale)\n",
        "    print(number_of_transaction)\n",
        "\n",
        "    if len(potential_buy) > 0:\n",
        "      for i in potential_buy:\n",
        "        print(i)\n",
        "    \n",
        "    if len(potential_sale) > 0:\n",
        "      for i in potential_sale:\n",
        "        print(i)\n"
      ],
      "metadata": {
        "id": "39WxlaiY2NSP"
      },
      "execution_count": null,
      "outputs": []
    },
    {
      "cell_type": "code",
      "source": [
        "def unbounded_knapsack(weights, profits, capacity):\n",
        "  \n",
        "    n = len(profits)\n",
        "    table = [[0] * (capacity + 1) for i in range(n)]\n",
        "\n",
        "    # When capacity is 0, none of the item can be selected\n",
        "    for i in range(n):\n",
        "        table[i][0] = 0\n",
        "\n",
        "    # When only 1 item is considered, get the profits using that item for every capapcity 'c'\n",
        "    for c in range(capacity + 1):\n",
        "        table[0][c] = (c // weights[0]) * profits[0]\n",
        "\n",
        "    # For each item, check for every possible capacities\n",
        "    for i in range(1, n):\n",
        "        for c in range(1, capacity + 1):\n",
        "            if (weights[i] <= c):\n",
        "                table[i][c] = max(table[i - 1][c], profits[i] + table[i][c - weights[i]])\n",
        "            else:\n",
        "                table[i][c] = table[i - 1][c]\n",
        "\n",
        "    items = pick_selected_items(table, weights, profits)\n",
        "\n",
        "    return items"
      ],
      "metadata": {
        "id": "irhZsiSomjfa"
      },
      "execution_count": null,
      "outputs": []
    },
    {
      "cell_type": "code",
      "source": [
        "def pick_selected_items(table, weights, profits):\n",
        "    items = []\n",
        "    values = []\n",
        "    i, c = len(table)-1, len(table[0])-1\n",
        "    total_profit = table[i][c]\n",
        "    while (i-1 >= 0 and table[i][c] >= 0):\n",
        "        if (table[i][c] != table[i - 1][c]):\n",
        "            items.append(weights[i])\n",
        "            values.append(profits[i])\n",
        "            c -= weights[i]\n",
        "            total_profit -= profits[i]\n",
        "        else:\n",
        "            i -= 1\n",
        "\n",
        "    while (total_profit > 0):\n",
        "        items.append(weights[0])\n",
        "        values.append(profits[0])\n",
        "        total_profit -= profits[0]\n",
        "    \n",
        "    return items, values"
      ],
      "metadata": {
        "id": "hN-59xOnmmrc"
      },
      "execution_count": null,
      "outputs": []
    }
  ]
}