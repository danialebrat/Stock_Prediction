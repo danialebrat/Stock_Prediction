{
  "nbformat": 4,
  "nbformat_minor": 0,
  "metadata": {
    "colab": {
      "name": "Stock_train_CNN_BiGRU.ipynb",
      "provenance": [],
      "mount_file_id": "152PdciYuOR-a1NMP50_8-ukv7_mvg8Pt",
      "authorship_tag": "ABX9TyM09eU9hq5PNbJ9Y+jguOiG",
      "include_colab_link": true
    },
    "kernelspec": {
      "name": "python3",
      "display_name": "Python 3"
    },
    "language_info": {
      "name": "python"
    }
  },
  "cells": [
    {
      "cell_type": "markdown",
      "metadata": {
        "id": "view-in-github",
        "colab_type": "text"
      },
      "source": [
        "<a href=\"https://colab.research.google.com/github/danialebrat/Stock_Prediction/blob/main/Codes/Stock_train_CNN_BiGRU.ipynb\" target=\"_parent\"><img src=\"https://colab.research.google.com/assets/colab-badge.svg\" alt=\"Open In Colab\"/></a>"
      ]
    },
    {
      "cell_type": "code",
      "execution_count": 1,
      "metadata": {
        "id": "xyvr4j-KzIiP"
      },
      "outputs": [],
      "source": [
        "import json\n",
        "import numpy as np\n",
        "from sklearn.model_selection import train_test_split\n",
        "from tensorflow.keras import Sequential, metrics\n",
        "from tensorflow.keras.optimizers import Adam\n",
        "from tensorflow.keras.layers import Dense, Dropout, LSTM, Bidirectional, GRU, BatchNormalization, RepeatVector, TimeDistributed, Input, Conv1D, Flatten, Reshape\n",
        "import matplotlib.pyplot as plt\n",
        "from tensorflow.keras.callbacks import ModelCheckpoint, ReduceLROnPlateau, EarlyStopping\n"
      ]
    },
    {
      "cell_type": "code",
      "source": [
        "DATA_PATH = \"/content/drive/MyDrive/Stock Prediction/Data.npy\""
      ],
      "metadata": {
        "id": "UD5DB9yh0XHy"
      },
      "execution_count": 2,
      "outputs": []
    },
    {
      "cell_type": "code",
      "source": [
        "n_past = 5\n",
        "n_future = 1"
      ],
      "metadata": {
        "id": "Rdvwkqi30ceR"
      },
      "execution_count": 3,
      "outputs": []
    },
    {
      "cell_type": "code",
      "source": [
        "def load_data(data_path):\n",
        "    \n",
        "    path = np.load(data_path)\n",
        "    \n",
        "    print(np.shape(path))\n",
        "\n",
        "    return path"
      ],
      "metadata": {
        "id": "cjO7JwMr0d9p"
      },
      "execution_count": 4,
      "outputs": []
    },
    {
      "cell_type": "code",
      "source": [
        "def split_path(path):\n",
        "    \n",
        "    X = []\n",
        "    Y = []\n",
        "    \n",
        "    for i in path:\n",
        "        \n",
        "        X.append(i[0:n_past])\n",
        "        Y.append(i[n_past:])\n",
        "        \n",
        "    \n",
        "    return np.array(X), np.array(Y)"
      ],
      "metadata": {
        "id": "31GldeUo0gZg"
      },
      "execution_count": 5,
      "outputs": []
    },
    {
      "cell_type": "code",
      "source": [
        "def prepare_datasets(test_size, validation_size):\n",
        "    \n",
        "    # load data\n",
        "    path = load_data(DATA_PATH)\n",
        "    \n",
        "    train, test = train_test_split(path , test_size=test_size)\n",
        "        \n",
        "    x_train, y_train = split_path(train)\n",
        "    \n",
        "    x_test, y_test = split_path(test)\n",
        "    \n",
        "    x_train, x_validation, y_train, y_validation = train_test_split(x_train, y_train, test_size=validation_size)\n",
        "   \n",
        "\n",
        "    return x_train, x_validation, x_test, y_train, y_validation, y_test"
      ],
      "metadata": {
        "id": "CY4Au7c90iXY"
      },
      "execution_count": 6,
      "outputs": []
    },
    {
      "cell_type": "code",
      "source": [
        "def plot_history(history):\n",
        "    \n",
        "    \"\"\" plot accuracy/loss for training/validation set as a function of the epochs\"\"\"\n",
        "\n",
        "    plt.plot(history.history[\"loss\"], label=\"train error\")\n",
        "    plt.plot(history.history[\"val_loss\"], label=\"validation error\")\n",
        "    plt.ylabel(\"Error\")\n",
        "    plt.xlabel(\"Epoch\")\n",
        "    plt.legend(loc=\"upper right\")\n",
        "\n",
        "    plt.savefig('Accuracy eval.png', dpi=100, bbox_inches='tight')\n",
        "    plt.show()"
      ],
      "metadata": {
        "id": "aLXCSrjs0kXQ"
      },
      "execution_count": 7,
      "outputs": []
    },
    {
      "cell_type": "code",
      "source": [
        "def build_model(input_shape):\n",
        "\n",
        "    # build network topology\n",
        "    model = Sequential()\n",
        "\n",
        "    model = cnn_model(model, input_shape)\n",
        "\n",
        "    model = rnn_model(model, input_shape)\n",
        "\n",
        "    # dense layer\n",
        "    model.add(TimeDistributed(Dense(input_shape[1] , activation='LeakyReLU')))\n",
        "\n",
        "    return model"
      ],
      "metadata": {
        "id": "KXcJhtTK0mAY"
      },
      "execution_count": 8,
      "outputs": []
    },
    {
      "cell_type": "code",
      "source": [
        "def rnn_model(model, input_shape):\n",
        "\n",
        "        \n",
        "    model.add(Bidirectional(GRU(16, name=\"Bidirectional_GRU_1\", dropout = 0.4)))\n",
        "    model.add(BatchNormalization())\n",
        "\n",
        "    # Decoder\n",
        "    model.add(RepeatVector(n = n_future))\n",
        "\n",
        "    # GRU Layers\n",
        "    model.add(Bidirectional(GRU(32, return_sequences=True, name=\"Bidirectional_GRU_2\", dropout = 0.2)))\n",
        "    model.add(BatchNormalization())\n",
        "\n",
        "    model.add(Bidirectional(GRU(64, return_sequences=True, name=\"Bidirectional_GRU_3\", dropout = 0.3)))\n",
        "    model.add(BatchNormalization())\n",
        "\n",
        "    model.add(Bidirectional(GRU(128, return_sequences=True, name=\"Bidirectional_GRU_4\", dropout = 0.4)))\n",
        "    model.add(BatchNormalization())\n",
        "\n",
        "    return model\n",
        "\n"
      ],
      "metadata": {
        "id": "tYQfdkK10paZ"
      },
      "execution_count": 9,
      "outputs": []
    },
    {
      "cell_type": "code",
      "source": [
        "def cnn_model(model, input_shape):\n",
        "\n",
        "    #1st conv layer\n",
        "    model.add(Conv1D(128, 3, activation='LeakyReLU', input_shape= input_shape, padding='same', name=\"Conv1D_1\"))\n",
        "    model.add(BatchNormalization())\n",
        "    model.add(Dropout(0.2))\n",
        "\n",
        "    #2nd conv layer\n",
        "\n",
        "    model.add(Conv1D(64, 3, activation='LeakyReLU', padding='same', name=\"Conv1D_2\"))\n",
        "    model.add(BatchNormalization())\n",
        "    model.add(Dropout(0.3))\n",
        "\n",
        "    #3rd conv layer\n",
        "\n",
        "    model.add(Conv1D(32, 3, activation='LeakyReLU', padding='same', name=\"Conv1D_3\"))\n",
        "    model.add(BatchNormalization())\n",
        "    model.add(Dropout(0.4))\n",
        "\n",
        "    return model"
      ],
      "metadata": {
        "id": "2tWzPp9o0tkw"
      },
      "execution_count": 10,
      "outputs": []
    },
    {
      "cell_type": "code",
      "source": [
        "if __name__ == \"__main__\":\n",
        "    \n",
        "    # get train, validation , test splits\n",
        "    x_train, x_validation, x_test, y_train, y_validation, y_test = prepare_datasets(0.05, 0.05)\n",
        "    \n",
        "    print(x_train.shape)\n",
        "    print(y_train.shape)\n",
        "    print(x_validation.shape)\n",
        "    print(y_validation.shape)\n",
        "\n",
        "\n",
        "    np.save(\"x_test_stock_CNN\", x_test)\n",
        "    np.save(\"y_test_stock_CNN\", y_test)\n",
        "\n",
        "    # create network\n",
        "    input_shape = (x_train.shape[1], x_train.shape[2])\n",
        "    \n",
        "    model = build_model(input_shape)\n",
        "\n",
        "    # compile model\n",
        "    optimizer = Adam(learning_rate=0.0007)\n",
        "    model.compile(optimizer=optimizer,\n",
        "                  loss='mse',\n",
        "                  metrics=[metrics.RootMeanSquaredError()])\n",
        "\n",
        "    checkpoint_callback = ModelCheckpoint('Stock_model_CNN_BiGRU.h5', monitor='val_root_mean_squared_error', verbose=1,\n",
        "                                          save_best_only=True, mode='min')\n",
        "    \n",
        "    es = EarlyStopping(monitor='val_root_mean_squared_error', mode='min', verbose=1, patience=30)\n",
        "\n",
        "    reducelr_callback = ReduceLROnPlateau(\n",
        "        monitor='val_root_mean_squared_error', factor=0.7, patience=7, min_delta=0.00001,\n",
        "        verbose=1\n",
        "    )\n",
        "\n",
        "    callbacks_list = [checkpoint_callback, reducelr_callback, es]\n",
        "\n",
        "    model.summary()\n",
        "\n",
        "    # train model\n",
        "    history = model.fit(x_train, y_train, validation_data=(x_validation, y_validation), batch_size=32, epochs=100,\n",
        "                        callbacks=callbacks_list)\n",
        "\n",
        "    # plot accuracy\n",
        "    plot_history(history)\n",
        "\n",
        "    # evaluate model on test set\n",
        "    test_loss, test_acc = model.evaluate(x_test, y_test, verbose=2)\n",
        "    print(\"\\nTest Accuracy : \", test_acc)\n",
        "\n"
      ],
      "metadata": {
        "id": "9OTpgtF-0xJg",
        "colab": {
          "base_uri": "https://localhost:8080/",
          "height": 381
        },
        "outputId": "703a55ad-2ce0-4325-e23e-e9c405f2a7e8"
      },
      "execution_count": 11,
      "outputs": [
        {
          "output_type": "error",
          "ename": "FileNotFoundError",
          "evalue": "ignored",
          "traceback": [
            "\u001b[0;31m---------------------------------------------------------------------------\u001b[0m",
            "\u001b[0;31mFileNotFoundError\u001b[0m                         Traceback (most recent call last)",
            "\u001b[0;32m<ipython-input-11-a81213cc8307>\u001b[0m in \u001b[0;36m<module>\u001b[0;34m()\u001b[0m\n\u001b[1;32m      2\u001b[0m \u001b[0;34m\u001b[0m\u001b[0m\n\u001b[1;32m      3\u001b[0m     \u001b[0;31m# get train, validation , test splits\u001b[0m\u001b[0;34m\u001b[0m\u001b[0;34m\u001b[0m\u001b[0;34m\u001b[0m\u001b[0m\n\u001b[0;32m----> 4\u001b[0;31m     \u001b[0mx_train\u001b[0m\u001b[0;34m,\u001b[0m \u001b[0mx_validation\u001b[0m\u001b[0;34m,\u001b[0m \u001b[0mx_test\u001b[0m\u001b[0;34m,\u001b[0m \u001b[0my_train\u001b[0m\u001b[0;34m,\u001b[0m \u001b[0my_validation\u001b[0m\u001b[0;34m,\u001b[0m \u001b[0my_test\u001b[0m \u001b[0;34m=\u001b[0m \u001b[0mprepare_datasets\u001b[0m\u001b[0;34m(\u001b[0m\u001b[0;36m0.05\u001b[0m\u001b[0;34m,\u001b[0m \u001b[0;36m0.05\u001b[0m\u001b[0;34m)\u001b[0m\u001b[0;34m\u001b[0m\u001b[0;34m\u001b[0m\u001b[0m\n\u001b[0m\u001b[1;32m      5\u001b[0m \u001b[0;34m\u001b[0m\u001b[0m\n\u001b[1;32m      6\u001b[0m     \u001b[0mprint\u001b[0m\u001b[0;34m(\u001b[0m\u001b[0mx_train\u001b[0m\u001b[0;34m.\u001b[0m\u001b[0mshape\u001b[0m\u001b[0;34m)\u001b[0m\u001b[0;34m\u001b[0m\u001b[0;34m\u001b[0m\u001b[0m\n",
            "\u001b[0;32m<ipython-input-6-3cc5bbf20516>\u001b[0m in \u001b[0;36mprepare_datasets\u001b[0;34m(test_size, validation_size)\u001b[0m\n\u001b[1;32m      2\u001b[0m \u001b[0;34m\u001b[0m\u001b[0m\n\u001b[1;32m      3\u001b[0m     \u001b[0;31m# load data\u001b[0m\u001b[0;34m\u001b[0m\u001b[0;34m\u001b[0m\u001b[0;34m\u001b[0m\u001b[0m\n\u001b[0;32m----> 4\u001b[0;31m     \u001b[0mpath\u001b[0m \u001b[0;34m=\u001b[0m \u001b[0mload_data\u001b[0m\u001b[0;34m(\u001b[0m\u001b[0mDATA_PATH\u001b[0m\u001b[0;34m)\u001b[0m\u001b[0;34m\u001b[0m\u001b[0;34m\u001b[0m\u001b[0m\n\u001b[0m\u001b[1;32m      5\u001b[0m \u001b[0;34m\u001b[0m\u001b[0m\n\u001b[1;32m      6\u001b[0m     \u001b[0mtrain\u001b[0m\u001b[0;34m,\u001b[0m \u001b[0mtest\u001b[0m \u001b[0;34m=\u001b[0m \u001b[0mtrain_test_split\u001b[0m\u001b[0;34m(\u001b[0m\u001b[0mpath\u001b[0m \u001b[0;34m,\u001b[0m \u001b[0mtest_size\u001b[0m\u001b[0;34m=\u001b[0m\u001b[0mtest_size\u001b[0m\u001b[0;34m)\u001b[0m\u001b[0;34m\u001b[0m\u001b[0;34m\u001b[0m\u001b[0m\n",
            "\u001b[0;32m<ipython-input-4-4f4f72e1767f>\u001b[0m in \u001b[0;36mload_data\u001b[0;34m(data_path)\u001b[0m\n\u001b[1;32m      1\u001b[0m \u001b[0;32mdef\u001b[0m \u001b[0mload_data\u001b[0m\u001b[0;34m(\u001b[0m\u001b[0mdata_path\u001b[0m\u001b[0;34m)\u001b[0m\u001b[0;34m:\u001b[0m\u001b[0;34m\u001b[0m\u001b[0;34m\u001b[0m\u001b[0m\n\u001b[1;32m      2\u001b[0m \u001b[0;34m\u001b[0m\u001b[0m\n\u001b[0;32m----> 3\u001b[0;31m     \u001b[0mpath\u001b[0m \u001b[0;34m=\u001b[0m \u001b[0mnp\u001b[0m\u001b[0;34m.\u001b[0m\u001b[0mload\u001b[0m\u001b[0;34m(\u001b[0m\u001b[0mdata_path\u001b[0m\u001b[0;34m)\u001b[0m\u001b[0;34m\u001b[0m\u001b[0;34m\u001b[0m\u001b[0m\n\u001b[0m\u001b[1;32m      4\u001b[0m \u001b[0;34m\u001b[0m\u001b[0m\n\u001b[1;32m      5\u001b[0m     \u001b[0mprint\u001b[0m\u001b[0;34m(\u001b[0m\u001b[0mnp\u001b[0m\u001b[0;34m.\u001b[0m\u001b[0mshape\u001b[0m\u001b[0;34m(\u001b[0m\u001b[0mpath\u001b[0m\u001b[0;34m)\u001b[0m\u001b[0;34m)\u001b[0m\u001b[0;34m\u001b[0m\u001b[0;34m\u001b[0m\u001b[0m\n",
            "\u001b[0;32m/usr/local/lib/python3.7/dist-packages/numpy/lib/npyio.py\u001b[0m in \u001b[0;36mload\u001b[0;34m(file, mmap_mode, allow_pickle, fix_imports, encoding)\u001b[0m\n\u001b[1;32m    415\u001b[0m             \u001b[0mown_fid\u001b[0m \u001b[0;34m=\u001b[0m \u001b[0;32mFalse\u001b[0m\u001b[0;34m\u001b[0m\u001b[0;34m\u001b[0m\u001b[0m\n\u001b[1;32m    416\u001b[0m         \u001b[0;32melse\u001b[0m\u001b[0;34m:\u001b[0m\u001b[0;34m\u001b[0m\u001b[0;34m\u001b[0m\u001b[0m\n\u001b[0;32m--> 417\u001b[0;31m             \u001b[0mfid\u001b[0m \u001b[0;34m=\u001b[0m \u001b[0mstack\u001b[0m\u001b[0;34m.\u001b[0m\u001b[0menter_context\u001b[0m\u001b[0;34m(\u001b[0m\u001b[0mopen\u001b[0m\u001b[0;34m(\u001b[0m\u001b[0mos_fspath\u001b[0m\u001b[0;34m(\u001b[0m\u001b[0mfile\u001b[0m\u001b[0;34m)\u001b[0m\u001b[0;34m,\u001b[0m \u001b[0;34m\"rb\"\u001b[0m\u001b[0;34m)\u001b[0m\u001b[0;34m)\u001b[0m\u001b[0;34m\u001b[0m\u001b[0;34m\u001b[0m\u001b[0m\n\u001b[0m\u001b[1;32m    418\u001b[0m             \u001b[0mown_fid\u001b[0m \u001b[0;34m=\u001b[0m \u001b[0;32mTrue\u001b[0m\u001b[0;34m\u001b[0m\u001b[0;34m\u001b[0m\u001b[0m\n\u001b[1;32m    419\u001b[0m \u001b[0;34m\u001b[0m\u001b[0m\n",
            "\u001b[0;31mFileNotFoundError\u001b[0m: [Errno 2] No such file or directory: '/content/drive/MyDrive/Stock Prediction/Data.npy'"
          ]
        }
      ]
    },
    {
      "cell_type": "code",
      "source": [
        ""
      ],
      "metadata": {
        "id": "Cr1VjxC1yF9W"
      },
      "execution_count": null,
      "outputs": []
    }
  ]
}